{
 "cells": [
  {
   "cell_type": "code",
   "execution_count": 1,
   "id": "a365b119",
   "metadata": {},
   "outputs": [
    {
     "name": "stdout",
     "output_type": "stream",
     "text": [
      "Twinkle,twinkle,little star,  \n",
      "        How i wonder what you are! \n",
      "                Up above the world so high, \n",
      "                like a diamond in the sky. \n",
      " Twinkle,twinkle,little star, \n",
      "         How I wonder what you are\n"
     ]
    }
   ],
   "source": [
    "#Answer 1.\n",
    "\n",
    "print(\"Twinkle,twinkle,little star,  \\n        How i wonder what you are! \\n                Up above the world so high, \\n                like a diamond in the sky. \\n Twinkle,twinkle,little star, \\n         How I wonder what you are\")"
   ]
  },
  {
   "cell_type": "code",
   "execution_count": 2,
   "id": "ee603a50",
   "metadata": {},
   "outputs": [
    {
     "name": "stdout",
     "output_type": "stream",
     "text": [
      "Python Version\n",
      "3.8.8 (default, Apr 13 2021, 15:08:03) [MSC v.1916 64 bit (AMD64)]\n",
      "Version Data\n",
      "sys.version_info(major=3, minor=8, micro=8, releaselevel='final', serial=0)\n"
     ]
    }
   ],
   "source": [
    "# Answer 2\n",
    "\n",
    "import sys\n",
    "print(\"Python Version\")\n",
    "print(sys.version)\n",
    "print(\"Version Data\")\n",
    "print(sys.version_info)"
   ]
  },
  {
   "cell_type": "code",
   "execution_count": 3,
   "id": "f3f38271",
   "metadata": {},
   "outputs": [
    {
     "name": "stdout",
     "output_type": "stream",
     "text": [
      "Date and Time is:\n",
      "22-01-01 10:35:50\n"
     ]
    }
   ],
   "source": [
    "#Answer 3\n",
    "import datetime\n",
    "current = datetime.datetime.now()\n",
    "print(\"Date and Time is:\")\n",
    "print(current.strftime(\"%y-%m-%d %H:%M:%S\"))"
   ]
  },
  {
   "cell_type": "code",
   "execution_count": 5,
   "id": "b488a2df",
   "metadata": {},
   "outputs": [
    {
     "name": "stdout",
     "output_type": "stream",
     "text": [
      "Enter Radius9\n",
      "Area of circle is 254.34\n"
     ]
    }
   ],
   "source": [
    "#Answer 4\n",
    "r = input(\"Enter Radius\")\n",
    "r = int(r)\n",
    "area = 3.14 * r ** 2\n",
    "print(\"Area of circle is\",area)"
   ]
  },
  {
   "cell_type": "code",
   "execution_count": 6,
   "id": "a8fec038",
   "metadata": {},
   "outputs": [
    {
     "name": "stdout",
     "output_type": "stream",
     "text": [
      "Enter 1st name Aroona\n",
      "Enter 2nd name Arshad\n",
      "Arshad Aroona\n"
     ]
    }
   ],
   "source": [
    "#Answer 5\n",
    "\n",
    "n1 = input(\"Enter 1st name \")\n",
    "n2 = input(\"Enter 2nd name \");\n",
    "print( n2 , n1 )"
   ]
  },
  {
   "cell_type": "code",
   "execution_count": 7,
   "id": "042bb0b8",
   "metadata": {},
   "outputs": [
    {
     "name": "stdout",
     "output_type": "stream",
     "text": [
      "Price of Shoes:300\n",
      "Price of Clothes:500\n",
      "Total Price: 800\n"
     ]
    }
   ],
   "source": [
    "#Answer 6\n",
    "\n",
    "p1 = input(\"Price of Shoes:\")\n",
    "p1 = int(p1)\n",
    "p2 = input(\"Price of Clothes:\")\n",
    "p2 = int(p2)\n",
    "print(\"Total Price:\",p1 + p2)"
   ]
  },
  {
   "cell_type": "code",
   "execution_count": null,
   "id": "c7251b60",
   "metadata": {},
   "outputs": [],
   "source": []
  }
 ],
 "metadata": {
  "kernelspec": {
   "display_name": "Python 3",
   "language": "python",
   "name": "python3"
  },
  "language_info": {
   "codemirror_mode": {
    "name": "ipython",
    "version": 3
   },
   "file_extension": ".py",
   "mimetype": "text/x-python",
   "name": "python",
   "nbconvert_exporter": "python",
   "pygments_lexer": "ipython3",
   "version": "3.8.8"
  }
 },
 "nbformat": 4,
 "nbformat_minor": 5
}
